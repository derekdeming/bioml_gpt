{
 "cells": [
  {
   "cell_type": "code",
   "execution_count": 1,
   "metadata": {},
   "outputs": [],
   "source": [
    "!pip install --upgrade langchain openai -q"
   ]
  },
  {
   "cell_type": "code",
   "execution_count": 3,
   "metadata": {},
   "outputs": [],
   "source": [
    "!pip install sentence_transformers -q"
   ]
  },
  {
   "cell_type": "code",
   "execution_count": 4,
   "metadata": {},
   "outputs": [
    {
     "name": "stdout",
     "output_type": "stream",
     "text": [
      "zsh:1: no matches found: unstructured[local-inference]\n"
     ]
    }
   ],
   "source": [
    "!pip install unstructured -q\n",
    "!pip install unstructured[local-inference] -q\n",
    "!pip install detectron2@git+https://github.com/facebookresearch/detectron2.git@v0.6 -q"
   ]
  },
  {
   "cell_type": "code",
   "execution_count": 7,
   "metadata": {},
   "outputs": [
    {
     "name": "stdout",
     "output_type": "stream",
     "text": [
      "Defaulting to user installation because normal site-packages is not writeable\n",
      "Requirement already satisfied: unstructured in /Users/derekdeming/Library/Python/3.9/lib/python/site-packages (0.6.10)\n",
      "Requirement already satisfied: argilla in /Users/derekdeming/Library/Python/3.9/lib/python/site-packages (from unstructured) (1.7.0)\n",
      "Requirement already satisfied: chardet in /Users/derekdeming/Library/Python/3.9/lib/python/site-packages (from unstructured) (5.1.0)\n",
      "Requirement already satisfied: lxml in /Users/derekdeming/Library/Python/3.9/lib/python/site-packages (from unstructured) (4.9.2)\n",
      "Requirement already satisfied: msg-parser in /Users/derekdeming/Library/Python/3.9/lib/python/site-packages (from unstructured) (1.2.0)\n",
      "Requirement already satisfied: nltk in /Users/derekdeming/Library/Python/3.9/lib/python/site-packages (from unstructured) (3.8.1)\n",
      "Requirement already satisfied: openpyxl in /Users/derekdeming/Library/Python/3.9/lib/python/site-packages (from unstructured) (3.1.2)\n",
      "Requirement already satisfied: pandas in /Users/derekdeming/Library/Python/3.9/lib/python/site-packages (from unstructured) (1.5.3)\n",
      "Requirement already satisfied: pdfminer.six in /Users/derekdeming/Library/Python/3.9/lib/python/site-packages (from unstructured) (20221105)\n",
      "Requirement already satisfied: pillow in /Users/derekdeming/Library/Python/3.9/lib/python/site-packages (from unstructured) (9.5.0)\n",
      "Requirement already satisfied: pypandoc in /Users/derekdeming/Library/Python/3.9/lib/python/site-packages (from unstructured) (1.11)\n",
      "Requirement already satisfied: python-docx in /Users/derekdeming/Library/Python/3.9/lib/python/site-packages (from unstructured) (0.8.11)\n",
      "Requirement already satisfied: python-pptx in /Users/derekdeming/Library/Python/3.9/lib/python/site-packages (from unstructured) (0.6.21)\n",
      "Requirement already satisfied: python-magic in /Users/derekdeming/Library/Python/3.9/lib/python/site-packages (from unstructured) (0.4.27)\n",
      "Requirement already satisfied: markdown in /Users/derekdeming/Library/Python/3.9/lib/python/site-packages (from unstructured) (3.4.3)\n",
      "Requirement already satisfied: requests in /Users/derekdeming/Library/Python/3.9/lib/python/site-packages (from unstructured) (2.31.0)\n",
      "Requirement already satisfied: xlrd in /Users/derekdeming/Library/Python/3.9/lib/python/site-packages (from unstructured) (2.0.1)\n",
      "Requirement already satisfied: httpx<0.24,>=0.15 in /Users/derekdeming/Library/Python/3.9/lib/python/site-packages (from argilla->unstructured) (0.23.3)\n",
      "Requirement already satisfied: deprecated~=1.2.0 in /Users/derekdeming/Library/Python/3.9/lib/python/site-packages (from argilla->unstructured) (1.2.14)\n",
      "Requirement already satisfied: packaging>=20.0 in /Users/derekdeming/Library/Python/3.9/lib/python/site-packages (from argilla->unstructured) (23.1)\n",
      "Requirement already satisfied: pydantic>=1.7.1 in /Users/derekdeming/Library/Python/3.9/lib/python/site-packages (from argilla->unstructured) (1.10.8)\n",
      "Requirement already satisfied: wrapt<1.15,>=1.13 in /Users/derekdeming/Library/Python/3.9/lib/python/site-packages (from argilla->unstructured) (1.14.1)\n",
      "Requirement already satisfied: numpy<1.24.0 in /Users/derekdeming/Library/Python/3.9/lib/python/site-packages (from argilla->unstructured) (1.23.5)\n",
      "Requirement already satisfied: tqdm>=4.27.0 in /Users/derekdeming/Library/Python/3.9/lib/python/site-packages (from argilla->unstructured) (4.65.0)\n",
      "Requirement already satisfied: backoff in /Users/derekdeming/Library/Python/3.9/lib/python/site-packages (from argilla->unstructured) (2.2.1)\n",
      "Requirement already satisfied: monotonic in /Users/derekdeming/Library/Python/3.9/lib/python/site-packages (from argilla->unstructured) (1.6)\n",
      "Requirement already satisfied: rich<=13.0.1 in /Users/derekdeming/Library/Python/3.9/lib/python/site-packages (from argilla->unstructured) (13.0.1)\n",
      "Requirement already satisfied: typer<1.0.0,>=0.6.0 in /Users/derekdeming/Library/Python/3.9/lib/python/site-packages (from argilla->unstructured) (0.9.0)\n",
      "Requirement already satisfied: python-dateutil>=2.8.1 in /Users/derekdeming/Library/Python/3.9/lib/python/site-packages (from pandas->unstructured) (2.8.2)\n",
      "Requirement already satisfied: pytz>=2020.1 in /Users/derekdeming/Library/Python/3.9/lib/python/site-packages (from pandas->unstructured) (2023.3)\n",
      "Requirement already satisfied: importlib-metadata>=4.4 in /Users/derekdeming/Library/Python/3.9/lib/python/site-packages (from markdown->unstructured) (6.6.0)\n",
      "Requirement already satisfied: olefile>=0.46 in /Users/derekdeming/Library/Python/3.9/lib/python/site-packages (from msg-parser->unstructured) (0.46)\n",
      "Requirement already satisfied: click in /Users/derekdeming/Library/Python/3.9/lib/python/site-packages (from nltk->unstructured) (8.1.3)\n",
      "Requirement already satisfied: joblib in /Users/derekdeming/Library/Python/3.9/lib/python/site-packages (from nltk->unstructured) (1.2.0)\n",
      "Requirement already satisfied: regex>=2021.8.3 in /Users/derekdeming/Library/Python/3.9/lib/python/site-packages (from nltk->unstructured) (2023.5.5)\n",
      "Requirement already satisfied: et-xmlfile in /Users/derekdeming/Library/Python/3.9/lib/python/site-packages (from openpyxl->unstructured) (1.1.0)\n",
      "Requirement already satisfied: charset-normalizer>=2.0.0 in /Users/derekdeming/Library/Python/3.9/lib/python/site-packages (from pdfminer.six->unstructured) (3.1.0)\n",
      "Requirement already satisfied: cryptography>=36.0.0 in /Users/derekdeming/Library/Python/3.9/lib/python/site-packages (from pdfminer.six->unstructured) (40.0.2)\n",
      "Requirement already satisfied: XlsxWriter>=0.5.7 in /Users/derekdeming/Library/Python/3.9/lib/python/site-packages (from python-pptx->unstructured) (3.1.2)\n",
      "Requirement already satisfied: idna<4,>=2.5 in /Users/derekdeming/Library/Python/3.9/lib/python/site-packages (from requests->unstructured) (3.4)\n",
      "Requirement already satisfied: urllib3<3,>=1.21.1 in /Users/derekdeming/Library/Python/3.9/lib/python/site-packages (from requests->unstructured) (1.26.16)\n",
      "Requirement already satisfied: certifi>=2017.4.17 in /Users/derekdeming/Library/Python/3.9/lib/python/site-packages (from requests->unstructured) (2023.5.7)\n",
      "Requirement already satisfied: cffi>=1.12 in /Users/derekdeming/Library/Python/3.9/lib/python/site-packages (from cryptography>=36.0.0->pdfminer.six->unstructured) (1.15.1)\n",
      "Requirement already satisfied: httpcore<0.17.0,>=0.15.0 in /Users/derekdeming/Library/Python/3.9/lib/python/site-packages (from httpx<0.24,>=0.15->argilla->unstructured) (0.16.3)\n",
      "Requirement already satisfied: rfc3986[idna2008]<2,>=1.3 in /Users/derekdeming/Library/Python/3.9/lib/python/site-packages (from httpx<0.24,>=0.15->argilla->unstructured) (1.5.0)\n",
      "Requirement already satisfied: sniffio in /Users/derekdeming/Library/Python/3.9/lib/python/site-packages (from httpx<0.24,>=0.15->argilla->unstructured) (1.3.0)\n",
      "Requirement already satisfied: zipp>=0.5 in /Users/derekdeming/Library/Python/3.9/lib/python/site-packages (from importlib-metadata>=4.4->markdown->unstructured) (3.15.0)\n",
      "Requirement already satisfied: typing-extensions>=4.2.0 in /Users/derekdeming/Library/Python/3.9/lib/python/site-packages (from pydantic>=1.7.1->argilla->unstructured) (4.6.2)\n",
      "Requirement already satisfied: six>=1.5 in /Library/Developer/CommandLineTools/Library/Frameworks/Python3.framework/Versions/3.9/lib/python3.9/site-packages (from python-dateutil>=2.8.1->pandas->unstructured) (1.15.0)\n",
      "Requirement already satisfied: commonmark<0.10.0,>=0.9.0 in /Users/derekdeming/Library/Python/3.9/lib/python/site-packages (from rich<=13.0.1->argilla->unstructured) (0.9.1)\n",
      "Requirement already satisfied: pygments<3.0.0,>=2.6.0 in /Users/derekdeming/Library/Python/3.9/lib/python/site-packages (from rich<=13.0.1->argilla->unstructured) (2.15.1)\n",
      "Requirement already satisfied: pycparser in /Users/derekdeming/Library/Python/3.9/lib/python/site-packages (from cffi>=1.12->cryptography>=36.0.0->pdfminer.six->unstructured) (2.21)\n",
      "Requirement already satisfied: h11<0.15,>=0.13 in /Users/derekdeming/Library/Python/3.9/lib/python/site-packages (from httpcore<0.17.0,>=0.15.0->httpx<0.24,>=0.15->argilla->unstructured) (0.14.0)\n",
      "Requirement already satisfied: anyio<5.0,>=3.0 in /Users/derekdeming/Library/Python/3.9/lib/python/site-packages (from httpcore<0.17.0,>=0.15.0->httpx<0.24,>=0.15->argilla->unstructured) (3.7.0)\n",
      "Requirement already satisfied: exceptiongroup in /Users/derekdeming/Library/Python/3.9/lib/python/site-packages (from anyio<5.0,>=3.0->httpcore<0.17.0,>=0.15.0->httpx<0.24,>=0.15->argilla->unstructured) (1.1.1)\n",
      "Note: you may need to restart the kernel to use updated packages.\n"
     ]
    }
   ],
   "source": [
    "pip install unstructured"
   ]
  },
  {
   "cell_type": "code",
   "execution_count": 66,
   "metadata": {},
   "outputs": [],
   "source": [
    "from langchain.document_loaders import DirectoryLoader\n",
    "from langchain.text_splitter import RecursiveCharacterTextSplitter\n",
    "import pdf2image\n",
    "import re\n"
   ]
  },
  {
   "cell_type": "code",
   "execution_count": 65,
   "metadata": {},
   "outputs": [
    {
     "data": {
      "text/plain": [
       "10"
      ]
     },
     "execution_count": 65,
     "metadata": {},
     "output_type": "execute_result"
    }
   ],
   "source": [
    "directory = '../bio_papers/' \n",
    "\n",
    "def load_docs(directory):\n",
    "    loader = DirectoryLoader(directory)\n",
    "    docs = loader.load()\n",
    "    return docs\n",
    "\n",
    "documents = load_docs(directory)\n",
    "len(documents)"
   ]
  },
  {
   "cell_type": "code",
   "execution_count": 62,
   "metadata": {},
   "outputs": [
    {
     "data": {
      "text/plain": [
       "1124"
      ]
     },
     "execution_count": 62,
     "metadata": {},
     "output_type": "execute_result"
    }
   ],
   "source": [
    "\n",
    "def split_docs(documents, chunk_size = 1000, chunk_overlap = 20):\n",
    "    splitter = RecursiveCharacterTextSplitter(chunk_size = chunk_size, chunk_overlap = chunk_overlap)\n",
    "    chunks = splitter.split_documents(documents)\n",
    "    return chunks\n",
    "\n",
    "chunks = split_docs(documents)\n",
    "len(chunks)"
   ]
  },
  {
   "cell_type": "code",
   "execution_count": 67,
   "metadata": {},
   "outputs": [],
   "source": [
    "def load_docs(directory):\n",
    "    loader = DirectoryLoader(directory)\n",
    "    docs = loader.load()\n",
    "    return docs\n",
    "\n",
    "def get_section_type(section):\n",
    "    \"\"\"Determine the type of a section based on its first line.\"\"\"\n",
    "    first_line = section.split(\"\\n\")[0].lower()\n",
    "    candidates = [(priority, section_type) for section_type, (priority, keywords) in SECTION_KEYWORDS.items() if any(keyword in first_line for keyword in keywords)]\n",
    "    # Return the section type with the highest priority, or \"OTHER\" if there are no candidates\n",
    "    return max(candidates, default=(0, \"OTHER\"))[1]\n",
    "\n",
    "def split_into_sections(document):\n",
    "    \"\"\"Split a document into sections at each header.\"\"\"\n",
    "    sections = re.split(r\"\\n(?=.{1,\" + str(MAX_HEADER_LENGTH) + r\"}:|.{1,\" + str(MAX_HEADER_LENGTH) + r\"}\\n\\n)\", document)\n",
    "    return {get_section_type(section): section for section in sections}\n",
    "\n",
    "def split_docs(documents, chunk_size=1000, chunk_overlap=20):\n",
    "    \"\"\"Split each section of each document into chunks.\"\"\"\n",
    "    splitter = RecursiveCharacterTextSplitter(chunk_size=chunk_size, chunk_overlap=chunk_overlap)\n",
    "    chunks = []\n",
    "    for document in documents:\n",
    "        print(type(document))  # Add this line\n",
    "        sections = split_into_sections(document)\n",
    "        for section, text in sections.items():\n",
    "            chunks.extend(splitter.split_documents(text))\n",
    "    return chunks "
   ]
  },
  {
   "cell_type": "code",
   "execution_count": 84,
   "metadata": {},
   "outputs": [
    {
     "name": "stdout",
     "output_type": "stream",
     "text": [
      "<class 'list'>\n",
      "<class 'PyPDF2._reader.PdfReader'>\n"
     ]
    },
    {
     "data": {
      "text/html": [
       "<pre style=\"white-space:pre;overflow-x:auto;line-height:normal;font-family:Menlo,'DejaVu Sans Mono',consolas,'Courier New',monospace\"><span style=\"color: #800000; text-decoration-color: #800000\">╭─────────────────────────────── </span><span style=\"color: #800000; text-decoration-color: #800000; font-weight: bold\">Traceback </span><span style=\"color: #bf7f7f; text-decoration-color: #bf7f7f; font-weight: bold\">(most recent call last)</span><span style=\"color: #800000; text-decoration-color: #800000\"> ────────────────────────────────╮</span>\n",
       "<span style=\"color: #800000; text-decoration-color: #800000\">│</span> <span style=\"color: #bfbf7f; text-decoration-color: #bfbf7f\">/var/folders/cm/19r9pjlj5sz023y4mpj99ggh0000gn/T/ipykernel_55933/</span><span style=\"color: #808000; text-decoration-color: #808000; font-weight: bold\">2276783812.py</span>:<span style=\"color: #0000ff; text-decoration-color: #0000ff\">63</span> in <span style=\"color: #00ff00; text-decoration-color: #00ff00\">&lt;module&gt;</span>    <span style=\"color: #800000; text-decoration-color: #800000\">│</span>\n",
       "<span style=\"color: #800000; text-decoration-color: #800000\">│</span>                                                                                                  <span style=\"color: #800000; text-decoration-color: #800000\">│</span>\n",
       "<span style=\"color: #800000; text-decoration-color: #800000\">│</span> <span style=\"color: #800000; text-decoration-color: #800000; font-style: italic\">[Errno 2] No such file or directory: </span>                                                            <span style=\"color: #800000; text-decoration-color: #800000\">│</span>\n",
       "<span style=\"color: #800000; text-decoration-color: #800000\">│</span> <span style=\"color: #800000; text-decoration-color: #800000; font-style: italic\">'/var/folders/cm/19r9pjlj5sz023y4mpj99ggh0000gn/T/ipykernel_55933/2276783812.py'</span>                 <span style=\"color: #800000; text-decoration-color: #800000\">│</span>\n",
       "<span style=\"color: #800000; text-decoration-color: #800000\">│</span>                                                                                                  <span style=\"color: #800000; text-decoration-color: #800000\">│</span>\n",
       "<span style=\"color: #800000; text-decoration-color: #800000\">│</span> <span style=\"color: #bfbf7f; text-decoration-color: #bfbf7f\">/var/folders/cm/19r9pjlj5sz023y4mpj99ggh0000gn/T/ipykernel_55933/</span><span style=\"color: #808000; text-decoration-color: #808000; font-weight: bold\">2276783812.py</span>:<span style=\"color: #0000ff; text-decoration-color: #0000ff\">35</span> in <span style=\"color: #00ff00; text-decoration-color: #00ff00\">load_docs</span>   <span style=\"color: #800000; text-decoration-color: #800000\">│</span>\n",
       "<span style=\"color: #800000; text-decoration-color: #800000\">│</span>                                                                                                  <span style=\"color: #800000; text-decoration-color: #800000\">│</span>\n",
       "<span style=\"color: #800000; text-decoration-color: #800000\">│</span> <span style=\"color: #800000; text-decoration-color: #800000; font-style: italic\">[Errno 2] No such file or directory: </span>                                                            <span style=\"color: #800000; text-decoration-color: #800000\">│</span>\n",
       "<span style=\"color: #800000; text-decoration-color: #800000\">│</span> <span style=\"color: #800000; text-decoration-color: #800000; font-style: italic\">'/var/folders/cm/19r9pjlj5sz023y4mpj99ggh0000gn/T/ipykernel_55933/2276783812.py'</span>                 <span style=\"color: #800000; text-decoration-color: #800000\">│</span>\n",
       "<span style=\"color: #800000; text-decoration-color: #800000\">╰──────────────────────────────────────────────────────────────────────────────────────────────────╯</span>\n",
       "<span style=\"color: #ff0000; text-decoration-color: #ff0000; font-weight: bold\">TypeError: </span><span style=\"color: #008000; text-decoration-color: #008000\">'_VirtualList'</span> object is not callable\n",
       "</pre>\n"
      ],
      "text/plain": [
       "\u001b[31m╭─\u001b[0m\u001b[31m──────────────────────────────\u001b[0m\u001b[31m \u001b[0m\u001b[1;31mTraceback \u001b[0m\u001b[1;2;31m(most recent call last)\u001b[0m\u001b[31m \u001b[0m\u001b[31m───────────────────────────────\u001b[0m\u001b[31m─╮\u001b[0m\n",
       "\u001b[31m│\u001b[0m \u001b[2;33m/var/folders/cm/19r9pjlj5sz023y4mpj99ggh0000gn/T/ipykernel_55933/\u001b[0m\u001b[1;33m2276783812.py\u001b[0m:\u001b[94m63\u001b[0m in \u001b[92m<module>\u001b[0m    \u001b[31m│\u001b[0m\n",
       "\u001b[31m│\u001b[0m                                                                                                  \u001b[31m│\u001b[0m\n",
       "\u001b[31m│\u001b[0m \u001b[3;31m[Errno 2] No such file or directory: \u001b[0m                                                            \u001b[31m│\u001b[0m\n",
       "\u001b[31m│\u001b[0m \u001b[3;31m'/var/folders/cm/19r9pjlj5sz023y4mpj99ggh0000gn/T/ipykernel_55933/2276783812.py'\u001b[0m                 \u001b[31m│\u001b[0m\n",
       "\u001b[31m│\u001b[0m                                                                                                  \u001b[31m│\u001b[0m\n",
       "\u001b[31m│\u001b[0m \u001b[2;33m/var/folders/cm/19r9pjlj5sz023y4mpj99ggh0000gn/T/ipykernel_55933/\u001b[0m\u001b[1;33m2276783812.py\u001b[0m:\u001b[94m35\u001b[0m in \u001b[92mload_docs\u001b[0m   \u001b[31m│\u001b[0m\n",
       "\u001b[31m│\u001b[0m                                                                                                  \u001b[31m│\u001b[0m\n",
       "\u001b[31m│\u001b[0m \u001b[3;31m[Errno 2] No such file or directory: \u001b[0m                                                            \u001b[31m│\u001b[0m\n",
       "\u001b[31m│\u001b[0m \u001b[3;31m'/var/folders/cm/19r9pjlj5sz023y4mpj99ggh0000gn/T/ipykernel_55933/2276783812.py'\u001b[0m                 \u001b[31m│\u001b[0m\n",
       "\u001b[31m╰──────────────────────────────────────────────────────────────────────────────────────────────────╯\u001b[0m\n",
       "\u001b[1;91mTypeError: \u001b[0m\u001b[32m'_VirtualList'\u001b[0m object is not callable\n"
      ]
     },
     "metadata": {},
     "output_type": "display_data"
    }
   ],
   "source": [
    "import PyPDF2\n",
    "from langchain.text_splitter import RecursiveCharacterTextSplitter\n",
    "import os\n",
    "import re\n",
    "\n",
    "# Assign a priority to each section type based on its typical order in a research paper\n",
    "SECTION_KEYWORDS = {\n",
    "    \"INTRODUCTION\": (1, [\"introduction\", \"background\", \"summary\"]),\n",
    "    \"METHODS\": (2, [\"methods\", \"methodology\", \"experimental procedure\", \"approach\"]),\n",
    "    \"RESULTS\": (3, [\"results\", \"findings\", \"data\"]),\n",
    "    \"DISCUSSION\": (4, [\"discussion\", \"interpretation\", \"analysis\"]),\n",
    "    \"CONCLUSION\": (5, [\"conclusion\", \"summary\", \"outcomes\"])\n",
    "}\n",
    "MAX_HEADER_LENGTH = 50  # Maximum length of a header line\n",
    "\n",
    "directory = '../bio_papers/'\n",
    "\n",
    "class Document:\n",
    "    def __init__(self, page_content, metadata=None):\n",
    "        self.page_content = page_content\n",
    "        self.metadata = metadata\n",
    "\n",
    "def load_docs(directory):\n",
    "    docs = []\n",
    "    file_list = os.listdir(directory)\n",
    "    print(type(file_list))  # Print the type of object returned by os.listdir(directory)\n",
    "    \n",
    "    for filename in file_list:\n",
    "        if filename.endswith(\".pdf\"):\n",
    "            with open(os.path.join(directory, filename), 'rb') as file:\n",
    "                reader = PyPDF2.PdfReader(file)\n",
    "                print(type(reader))  # Print the type of object returned by PyPDF2.PdfReader(file)\n",
    "                \n",
    "                text = ''\n",
    "                for page in range(reader.pages()):\n",
    "                    text += reader.getPage(page).extractText()\n",
    "                docs.append(text)\n",
    "    return docs\n",
    "\n",
    "def get_section_type(section):\n",
    "    \"\"\"Determine the type of a section based on its first line.\"\"\"\n",
    "    first_line = section.split(\"\\n\")[0].lower()\n",
    "    candidates = [(priority, section_type) for section_type, (priority, keywords) in SECTION_KEYWORDS.items() if any(keyword in first_line for keyword in keywords)]\n",
    "    # Return the section type with the highest priority, or \"OTHER\" if there are no candidates\n",
    "    return max(candidates, default=(0, \"OTHER\"))[1]\n",
    "\n",
    "def split_into_sections(document):\n",
    "    \"\"\"Split a document into sections at each header.\"\"\"\n",
    "    sections = re.split(r\"\\n(?=.{1,\" + str(MAX_HEADER_LENGTH) + r\"}:|.{1,\" + str(MAX_HEADER_LENGTH) + r\"}\\n\\n)\", document)\n",
    "    return {get_section_type(section): Document(section) for section in sections}\n",
    "\n",
    "def split_docs(documents, chunk_size=1000, chunk_overlap=20):\n",
    "    \"\"\"Split each section of each document into chunks.\"\"\"\n",
    "    splitter = RecursiveCharacterTextSplitter(chunk_size=chunk_size, chunk_overlap=chunk_overlap)\n",
    "    chunks = []\n",
    "    for document in documents:\n",
    "        sections = split_into_sections(document)\n",
    "        for section, doc in sections.items():\n",
    "            chunks.extend(splitter.split_documents([doc]))\n",
    "    return chunks\n",
    "\n",
    "# Load documents\n",
    "documents = load_docs(directory)\n",
    "\n",
    "# Split documents into chunks\n",
    "chunks = split_docs(documents)\n",
    "\n",
    "print(f\"Loaded {len(documents)} documents\")\n",
    "print(f\"Split into {len(chunks)} chunks\")\n"
   ]
  },
  {
   "cell_type": "code",
   "execution_count": 77,
   "metadata": {},
   "outputs": [
    {
     "data": {
      "text/plain": [
       "'I\\n\\n\\n\\nN H P A A u t h o r\\n\\nM a n u s c r i p t\\n\\nI\\n\\n\\n\\nN H P A A u t h o r\\n\\nM a n u s c r i p t\\n\\nI\\n\\n\\n\\nN H P A A u t h o r\\n\\nM a n u s c r i p t\\n\\nNIH Public Access Author Manuscript Cell Metab. Author manuscript; available in PMC 2015 August 05.\\n\\nPublished in final edited form as:\\n\\nCell Metab. 2014 August 5; 20(2): 368–375. doi:10.1016/j.cmet.2014.06.003.\\n\\nBone marrow adipose tissue is an endocrine organ that contributes to increased circulating adiponectin during caloric restriction'"
      ]
     },
     "execution_count": 77,
     "metadata": {},
     "output_type": "execute_result"
    }
   ],
   "source": [
    "chunks[0].page_content"
   ]
  },
  {
   "cell_type": "code",
   "execution_count": 58,
   "metadata": {},
   "outputs": [],
   "source": [
    "from langchain.embeddings import SentenceTransformerEmbeddings\n",
    "\n",
    "embeddings = SentenceTransformerEmbeddings(model_name = 'all-MiniLM-L6-v2')"
   ]
  },
  {
   "cell_type": "code",
   "execution_count": 59,
   "metadata": {},
   "outputs": [
    {
     "data": {
      "text/plain": [
       "384"
      ]
     },
     "execution_count": 59,
     "metadata": {},
     "output_type": "execute_result"
    }
   ],
   "source": [
    "query_result = embeddings.embed_query('What is the meaning of life?')\n",
    "len(query_result)"
   ]
  },
  {
   "cell_type": "code",
   "execution_count": 51,
   "metadata": {},
   "outputs": [
    {
     "name": "stdout",
     "output_type": "stream",
     "text": [
      "huggingface/tokenizers: The current process just got forked, after parallelism has already been used. Disabling parallelism to avoid deadlocks...\n",
      "To disable this warning, you can either:\n",
      "\t- Avoid using `tokenizers` before the fork if possible\n",
      "\t- Explicitly set the environment variable TOKENIZERS_PARALLELISM=(true | false)\n"
     ]
    }
   ],
   "source": [
    "!pip install pinecone-client -q"
   ]
  },
  {
   "cell_type": "code",
   "execution_count": 60,
   "metadata": {},
   "outputs": [],
   "source": [
    "import pinecone \n",
    "from langchain.vectorstores import Pinecone \n",
    "\n",
    "# initialize pinecone\n",
    "\n",
    "\n",
    "index_name = 'langchain-chatbot'\n",
    "index = Pinecone.from_documents(chunks, embeddings, index_name = index_name)"
   ]
  },
  {
   "cell_type": "code",
   "execution_count": 61,
   "metadata": {},
   "outputs": [
    {
     "data": {
      "text/plain": [
       "[Document(page_content='Assessment of mutations', metadata={'source': '../bio_papers/main_1.pdf'})]"
      ]
     },
     "execution_count": 61,
     "metadata": {},
     "output_type": "execute_result"
    }
   ],
   "source": [
    "def get_similar_docs(query, k=1, score=False): \n",
    "    if score: \n",
    "        similar_docs = index.similarity_search_with_scores(query, k=k)\n",
    "    else:\n",
    "        similar_docs = index.similarity_search(query, k=k)\n",
    "    return similar_docs\n",
    "\n",
    "query = 'how do i introduce a mutation'\n",
    "similar_docs = get_similar_docs(query)\n",
    "similar_docs"
   ]
  },
  {
   "cell_type": "code",
   "execution_count": null,
   "metadata": {},
   "outputs": [],
   "source": []
  },
  {
   "cell_type": "code",
   "execution_count": null,
   "metadata": {},
   "outputs": [],
   "source": []
  }
 ],
 "metadata": {
  "kernelspec": {
   "display_name": "Python 3",
   "language": "python",
   "name": "python3"
  },
  "language_info": {
   "codemirror_mode": {
    "name": "ipython",
    "version": 3
   },
   "file_extension": ".py",
   "mimetype": "text/x-python",
   "name": "python",
   "nbconvert_exporter": "python",
   "pygments_lexer": "ipython3",
   "version": "3.9.6"
  },
  "orig_nbformat": 4
 },
 "nbformat": 4,
 "nbformat_minor": 2
}
